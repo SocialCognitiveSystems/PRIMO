{
 "metadata": {
  "name": "",
  "signature": "sha256:b5510da9fa62058537da539fc44d713d34ed6b88e5a9a7acab0e555001879c5a"
 },
 "nbformat": 3,
 "nbformat_minor": 0,
 "worksheets": [
  {
   "cells": [
    {
     "cell_type": "markdown",
     "metadata": {},
     "source": [
      "<h1>Belief Networks - Kontinuierliche Variablen</h1>\n",
      "<p>MCMC (siehe <a href=\"chapters/belief_approx.ipynb\">Belief Networks - Approximierte Inferenz</a>) kann neben diskreten auch mit kontinuierlichen Variablen Inferenzen ziehen. Allerdings kann ein Bayesnetz nur aus kontinuierlichen oder nur aus diskreten Variablen bestehen, eine Berechnung auf einem Netz, wo diese Typen vermischt sind, ist aktuell noch nicht m\u00f6glich.\n",
      "</p>\n",
      "<p>\n",
      "Sowohl bei der Parametrisierung von Knoten als auch bei der Inferenz k\u00f6nnen Verteilungen angegeben werden. Diese sind in `primo.densities` implementiert, dort bereits enthalten sind: Beta-Verteilung, Exponential-Verteilung und Gauss-Verteilung.\n",
      "</p>\n",
      "<p>\n",
      "Im folgenden Beispiel ist ein Bayesnetz modelliert, welches das lineare Verh\u00e4ltnis zwischen Alter und H\u00f6he einer Pflanze modelliert, zuz\u00fcglich Rauschen.\n",
      "</p>"
     ]
    },
    {
     "cell_type": "code",
     "collapsed": false,
     "input": [
      "%matplotlib inline\n",
      "from primo.networks import BayesianNetwork\n",
      "from primo.nodes import ContinuousNodeFactory\n",
      "from primo.densities import ExponentialParameters\n",
      "from primo.densities import BetaParameters\n",
      "from primo.densities import GaussParameters\n",
      "\n",
      "# Bayesnetz initialisieren\n",
      "bn = BayesianNetwork()\n",
      "\n",
      "# Knoten erstellen und hinzuf\u00fcgen\n",
      "cnf = ContinuousNodeFactory()\n",
      "\n",
      "age = cnf.createExponentialNode(\"Age\")\n",
      "sun = cnf.createBetaNode(\"Sun\")\n",
      "ground = cnf.createGaussNode(\"Ground\")\n",
      "growth = cnf.createGaussNode(\"Growth\")\n",
      "height = cnf.createBetaNode(\"Height\")\n",
      "diameter = cnf.createExponentialNode(\"Diameter\")\n",
      "children = cnf.createExponentialNode(\"Children\")\n",
      "\n",
      "bn.add_node(age)\n",
      "bn.add_node(sun)\n",
      "bn.add_node(ground)\n",
      "bn.add_node(growth)\n",
      "bn.add_node(height)\n",
      "bn.add_node(diameter)\n",
      "bn.add_node(children)\n",
      "\n",
      "# Kanten erstellen\n",
      "bn.add_edge(age, growth)\n",
      "bn.add_edge(ground, growth)\n",
      "bn.add_edge(sun, growth)\n",
      "bn.add_edge(growth, diameter)\n",
      "bn.add_edge(growth, height)\n",
      "bn.add_edge(height, children)\n",
      "bn.add_edge(ground, children)\n",
      "\n",
      "# Parametrisierung\n",
      "age.set_density_parameters(ExponentialParameters(0.1, {}))\n",
      "sun.set_density_parameters(BetaParameters(2, {}, 2, {}))\n",
      "ground.set_density_parameters(GaussParameters(2.0, {}, 1.5))\n",
      "growth.set_density_parameters(GaussParameters(0.1, {age:5.0, ground:1.0, sun:4.0}, 2.5))\n",
      "height.set_density_parameters(BetaParameters(0.1, {growth:1}, 0.5, {growth:0.5}))\n",
      "diameter.set_density_parameters(ExponentialParameters(0.01, {growth:0.2}))\n",
      "children.set_density_parameters(ExponentialParameters(0.1, {ground:1.0, height:1.0}))\n",
      "\n",
      "bn.draw()"
     ],
     "language": "python",
     "metadata": {},
     "outputs": []
    },
    {
     "cell_type": "markdown",
     "metadata": {},
     "source": [
      "<h2>Funktionen</h2>\n",
      "<p>\n",
      "Zur Inferenz auf kontinuierlichen Netzen k\u00f6nnen die gleichen Funktionen wie auf diskreten Netzen verwendet werden. (F\u00fcr die Parameter des MCMC-Konstruktors siehe ebenfalls <a href=\"chapters/belief_approx.ipynb\">Belief Networks - Approximierte Inferenz</a>).\n",
      "</p>\n",
      "<p>\n",
      "Bei den R\u00fcckgabewerten werden die Verteilungsparameter angegeben. Im Beispiel f\u00fcr die Gauss-Verteilung sind dies \"`mu`\" f\u00fcr den Erwartungswert $\\mu$ und \"`c`\" f\u00fcr die Standardabweichung $\\sigma$.\n",
      "</p>\n"
     ]
    },
    {
     "cell_type": "code",
     "collapsed": false,
     "input": [
      "from primo.inference.mcmc import MCMC\n",
      "from primo.evidence import EvidenceEqual as EvEqual\n",
      "from primo.densities import NDGauss\n",
      "from primo.densities import Gauss\n",
      "\n",
      "# MCMC mit Standardwerten initialisieren\n",
      "mcmc = MCMC(bn, 100)\n",
      "\n",
      "print \"PriorMarginal:\"\n",
      "pm = mcmc.calculate_PriorMarginal([age], NDGauss)\n",
      "print pm\n",
      "pm = mcmc.calculate_PriorMarginal([height], NDGauss)\n",
      "print pm\n",
      "\n",
      "# Evidenz setzen\n",
      "evidence = {age:EvEqual(2)}\n",
      "\n",
      "print \"PosteriorMarginal:\"\n",
      "pm = mcmc.calculate_PosteriorMarginal([age, height], evidence, NDGauss)\n",
      "print pm"
     ],
     "language": "python",
     "metadata": {},
     "outputs": []
    }
   ],
   "metadata": {}
  }
 ]
}