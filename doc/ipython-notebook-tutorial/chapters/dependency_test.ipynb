{
 "metadata": {
  "name": "",
  "signature": "sha256:3d28b5ba7900703cf14a53b485cf0514346e2a8ce0094c0df330eb3186a8a76e"
 },
 "nbformat": 3,
 "nbformat_minor": 0,
 "worksheets": [
  {
   "cells": [
    {
     "cell_type": "markdown",
     "metadata": {},
     "source": [
      "# Download\n",
      "Herunterladen von <a href=\"https://github.com/hbuschme/PRIMO\">https://github.com/hbuschme/PRIMO</a> oder\n",
      "```\n",
      "git clone https://github.com/hbuschme/PRIMO\n",
      "```\n",
      "im Zielverzeichnis aufrufen.\n",
      "\n",
      "# Installation\n",
      "Um PRIMO nutzen zu k\u00f6nnen, muss entweder der Ordner *primo* aus dem Hauptordner *PRIMO* in das Projektverzeichnis kopiert werden oder der Umgebungsvariable `PYTHONPATH` muss der Pfad des Ordners, in dem der *primo*-Ordner liegt hinzugef\u00fcgt werden, z.B.:\n",
      "```\n",
      "export PYTHONPATH=$PYTHONPATH:/home/juser/path/to/PRIMO\n",
      "```\n",
      "\n",
      "# Dependency-Test\n",
      "Um zu \u00fcberpr\u00fcfen, ob alle Abh\u00e4ngigkeiten f\u00fcr *PRIMO* erf\u00fcllt sind, kann der nachfolgenden Code genutzt werden.\n",
      "Wenn das Ausf\u00fchren ohne Fehlermeldung durchl\u00e4uft, ist alles in Ordnung. Andernfalls wird in der Fehlermeldung angezeigt, welches Modul noch fehlt."
     ]
    },
    {
     "cell_type": "code",
     "collapsed": false,
     "input": [
      "try:\n",
      "  # logging: wird nur hier zur Ausgabe ben\u00f6tigt\n",
      "  import logging\n",
      "\n",
      "  # Die nachfolgenden Module werden auch von PRIMO ben\u00f6tigt\n",
      "  import abc\n",
      "  import copy\n",
      "  import itertools\n",
      "  import matplotlib.pyplot\n",
      "  import networkx\n",
      "  import numpy\n",
      "  import operator\n",
      "  import os\n",
      "  import random\n",
      "  import re\n",
      "  import scipy.stats\n",
      "  import time\n",
      "  import unittest\n",
      "  import xml.dom.minidom\n",
      "  print \"Es sind alle Abh\u00e4ngigkeiten f\u00fcr PRIMO erf\u00fcllt!\"\n",
      "except Exception:\n",
      "  logging.exception(\"FEHLER: Es sind nicht alle Abh\u00e4ngigkeiten f\u00fcr PRIMO erf\u00fcllt!\")\n",
      "  \n",
      "    \n",
      "try:\n",
      "    import primo\n",
      "except Exception:\n",
      "    print \"primo selbst fehlt :(\"\n",
      "    \n"
     ],
     "language": "python",
     "metadata": {},
     "outputs": []
    }
   ],
   "metadata": {}
  }
 ]
}