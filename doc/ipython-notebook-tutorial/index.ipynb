{
 "metadata": {
  "name": "",
  "signature": "sha256:9c9890f254a26ad9bf5f2dd21bc36508e7fbe48692ea074f1f4d7f030748a31b"
 },
 "nbformat": 3,
 "nbformat_minor": 0,
 "worksheets": [
  {
   "cells": [
    {
     "cell_type": "markdown",
     "metadata": {},
     "source": [
      "<h1>PRIMO - [PR]obabilistic [I]nference [MO]dules</h1>\n",
      "\n",
      "<h2>Inhalt</h2>\n",
      "In <i>PRIMO</i> werden verschiedene Varianten von Bayesnetzen implementiert. Im Folgenden werden alle Varianten an Code-Beispielen vorgestellt. Es wird jeweils gezeigt, wie sie erstellt und modifiziert werden und wie man auf ihnen Inferenzen ziehen und weitere Funktionen anwenden kann.\n",
      "\n",
      "<ul>\n",
      "<li><a href=\"chapters/dependency_test.ipynb\">Installation und Dependency-Test:</a><br>\n",
      "Eine kurze Anleitung, wie man *PRIMO* in ein Python-Projekt einbindet und ein Check, ob alle ben\u00f6tigten Python-Module installiert sind.\n",
      "</li>\n",
      "<br>\n",
      "\n",
      "<li><a href=\"chapters/belief_networks.ipynb\">Belief Networks:</a><br>\n",
      "Belief Networks sind die \"herk\u00f6mmlich\" Form von Bayesnetzen. Sie modellieren die kausalen Beziehungen zwischen mehreren Variablen in einem gerichteten Graphen:<br>\n",
      "  <ul>\n",
      "  \n",
      "    <br><li> <a href=\"chapters/belief_exact.ipynb\">Belief Networks - Exakte Inferenz:</a><br>\n",
      "    *PRIMO* bietet zwei verschiedene Funktionen zur exakten Inferenz, also der Berechnung von Wahrscheinlichkeitsverteilungen, sowohl a-priori (ohne Evidenz) als auch a-posteriori (mit Evidenz). \n",
      "    </li>\n",
      "    \n",
      "    <br><li> <a href=\"chapters/belief_approx.ipynb\">Belief Networks - Approximierte Inferenz:</a><br>\n",
      "    Mit MCMC enth\u00e4lt *PRIMO* au\u00dferdem ein approximatives Sampling-Verfahren, mit dem ebenfalls Inferenzen und eine MAP-Hypothese berechnet werden k\u00f6nnen.\n",
      "    </li>\n",
      "    \n",
      "    <br><li> <a href=\"chapters/belief_cont.ipynb\">Belief Networks - Kontinuierliche Variablen:</a><br>\n",
      "    Das MCMC-Verfahren bietet au\u00dferdem die M\u00f6glichkeit, auf Bayesnetzen mit kontinuierlichen Variablen zu arbeiten. In diesem Fall liegen keine diskreten Variablen mit einer festen Menge an Zust\u00e4nden vor, stattdessen enthalten Knoten Wahrscheinlichkeitsverteilungen.\n",
      "    </li>\n",
      "    \n",
      "    </ul>\n",
      "</li>\n",
      "\n",
      "<br><li> <a href=\"chapters/decision_networks.ipynb\">Decision Networks:</a><br>\n",
      "Decision Networks sind eine erweiterte Form von Bayesnetzen, welche zus\u00e4tzlich <i>Utilities</i> f\u00fcr Entscheidungen enthalten. So k\u00f6nnen Entscheidungssituationen durch ein Decision Network modelliert werden, welches f\u00fcr bestimmte Variablenbelegungen (Entscheidungen) deren Utility berechnet und so die Entscheidung bestimmt werden kann, welche wahrscheinlich den gr\u00f6\u00dften Nutzen (maximale Utility) bietet.\n",
      "</li>\n",
      "\n",
      "<br><li> <a href=\"chapters/dbn.ipynb\">Dynamische Bayesnetze:</a><br>\n",
      "Dynamische Bayesnetze dienen dazu, ein modelliertes Problem zeitlich anzupassen. Dabei hat der Zustand des vorherigen Zeitschritts jeweils Einfluss auf bestimmte Variablen des aktuellen Zeitschritts (gleiches Prinzip wie HMMs).\n",
      "</li>\n",
      "\n",
      "<br><li> <a href=\"chapters/naive_bayes_ev.ipynb\">Naive Bayes + Evidenztheorie:</a><br>\n",
      "Einfache Form eines Bayesnetzes mit Erweiterungen f\u00fcr die Angabe von Unsicherheit (weiche Evidenz mittels Dempster-Shafer-Theory) und der Berechnung von Entropien.\n",
      "</li>\n",
      "</ul>\n",
      "\n",
      "<h2>Sonstiges</h2>\n",
      "Definition des XBIF-Formats: <a href=\"http://www.cs.cmu.edu/~fgcozman/Research/InterchangeFormat/\">http://www.cs.cmu.edu/~fgcozman/Research/InterchangeFormat/</a>\n",
      "<br>\n",
      "Kurzer Guide zum Plotten mit `pyplot` aus `matplotlib`: <a href=\"doc/pyplot.pdf\">pyplot.pdf</a>\n",
      "<br>\n",
      "Kurzer Guide zum externen Modul `networkx`: <a href=\"doc/networkx.pdf\">networkx.pdf</a>\n",
      "<br>"
     ]
    }
   ],
   "metadata": {}
  }
 ]
}